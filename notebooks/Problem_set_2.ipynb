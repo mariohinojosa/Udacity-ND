{
 "cells": [
  {
   "cell_type": "markdown",
   "metadata": {},
   "source": [
    "# This is the notebook for the Intro to Data Science course"
   ]
  },
  {
   "cell_type": "markdown",
   "metadata": {},
   "source": [
    "##Problem set 2: Wrangling Subway Data"
   ]
  },
  {
   "cell_type": "markdown",
   "metadata": {},
   "source": [
    "###Number or Rainy Days"
   ]
  },
  {
   "cell_type": "code",
   "execution_count": 26,
   "metadata": {
    "collapsed": true
   },
   "outputs": [],
   "source": [
    "import pandas\n",
    "import pandasql\n",
    "\n",
    "def num_rainy_days(filename):\n",
    "    weather_data = pandas.read_csv(filename)\n",
    "    q = \"\"\"\n",
    "    SELECT\n",
    "    count(rain) as rain_days\n",
    "    FROM\n",
    "    weather_data\n",
    "    WHERE\n",
    "    rain = 1\n",
    "    \"\"\"\n",
    "    rainy_days = pandasql.sqldf(q.lower(),locals())\n",
    "    print rainy_days\n",
    "\n",
    "data = '/Users/mariohinojosa/Desktop/udacity_files/weather_underground.csv'\n",
    "    "
   ]
  },
  {
   "cell_type": "code",
   "execution_count": 27,
   "metadata": {
    "collapsed": false
   },
   "outputs": [
    {
     "name": "stdout",
     "output_type": "stream",
     "text": [
      "   rain_days\n",
      "0         10\n"
     ]
    }
   ],
   "source": [
    "num_rainy_days(data)"
   ]
  },
  {
   "cell_type": "markdown",
   "metadata": {},
   "source": [
    "###Temp on Foggy and Non-foggy Days"
   ]
  },
  {
   "cell_type": "code",
   "execution_count": 19,
   "metadata": {
    "collapsed": true
   },
   "outputs": [],
   "source": [
    "import pandas\n",
    "import pandasql\n",
    "\n",
    "\n",
    "def max_temp_aggregate_by_fog(filename):\n",
    "    weather_data = pandas.read_csv(filename)\n",
    "    q = \"\"\"\n",
    "    SELECT\n",
    "    fog,\n",
    "    max(maxtempi) as max_temp\n",
    "    FROM\n",
    "    weather_data\n",
    "    GROUP BY\n",
    "    1;\n",
    "    \"\"\"\n",
    "    \n",
    "    foggy_days = pandasql.sqldf(q.lower(),locals())\n",
    "    print foggy_days"
   ]
  },
  {
   "cell_type": "code",
   "execution_count": 20,
   "metadata": {
    "collapsed": false
   },
   "outputs": [
    {
     "name": "stdout",
     "output_type": "stream",
     "text": [
      "   fog  max_temp\n",
      "0    0        86\n",
      "1    1        81\n"
     ]
    }
   ],
   "source": [
    "max_temp_aggregate_by_fog(data)"
   ]
  },
  {
   "cell_type": "markdown",
   "metadata": {},
   "source": [
    "###Mean Temp on Weekends"
   ]
  },
  {
   "cell_type": "code",
   "execution_count": 17,
   "metadata": {
    "collapsed": true
   },
   "outputs": [],
   "source": [
    "import pandas\n",
    "import pandasql\n",
    "\n",
    "def avg_weekend_temperature(filename):\n",
    "    weather_data = pandas.read_csv(filename)\n",
    "    q = \"\"\"\n",
    "    SELECT\n",
    "    avg(meantempi) as avg_temp\n",
    "    FROM\n",
    "    weather_data\n",
    "    WHERE\n",
    "    cast(strftime('%w', date) as integer) in (0,6)\n",
    "    ;\n",
    "    \"\"\"\n",
    "    \n",
    "    mean_temp_weekends = pandasql.sqldf(q.lower(), locals())\n",
    "    print mean_temp_weekends"
   ]
  },
  {
   "cell_type": "code",
   "execution_count": 18,
   "metadata": {
    "collapsed": false
   },
   "outputs": [
    {
     "name": "stdout",
     "output_type": "stream",
     "text": [
      "    avg_temp\n",
      "0  65.111111\n"
     ]
    }
   ],
   "source": [
    "avg_weekend_temperature(data)"
   ]
  },
  {
   "cell_type": "markdown",
   "metadata": {},
   "source": [
    "###Mean Temp on Rainy Days"
   ]
  },
  {
   "cell_type": "code",
   "execution_count": 23,
   "metadata": {
    "collapsed": true
   },
   "outputs": [],
   "source": [
    "import pandas\n",
    "import pandasql\n",
    "\n",
    "def avg_min_temperature(filename):\n",
    "    weather_data = pandas.read_csv(filename)\n",
    "    \n",
    "    q = \"\"\"\n",
    "    SELECT\n",
    "    avg(mintempi) as avg_mean_temp\n",
    "    FROM\n",
    "    weather_data\n",
    "    WHERE\n",
    "    mintempi > 55\n",
    "    AND rain = 1\n",
    "    ;\n",
    "    \"\"\"\n",
    "    \n",
    "    avg_mean_temp_rainy = pandasql.sqldf(q.lower(),locals())\n",
    "    print avg_mean_temp_rainy\n",
    "    "
   ]
  },
  {
   "cell_type": "code",
   "execution_count": 25,
   "metadata": {
    "collapsed": false
   },
   "outputs": [
    {
     "name": "stdout",
     "output_type": "stream",
     "text": [
      "   avg_mean_temp\n",
      "0          61.25\n"
     ]
    }
   ],
   "source": [
    "avg_min_temperature(data)"
   ]
  },
  {
   "cell_type": "markdown",
   "metadata": {},
   "source": [
    "###Fixing Turnstile Data"
   ]
  },
  {
   "cell_type": "code",
   "execution_count": null,
   "metadata": {
    "collapsed": true
   },
   "outputs": [],
   "source": [
    "import csv\n",
    "\n",
    "def fix_turnstile_data(filenames):\n",
    "    "
   ]
  }
 ],
 "metadata": {
  "kernelspec": {
   "display_name": "Python 2",
   "language": "python",
   "name": "python2"
  },
  "language_info": {
   "codemirror_mode": {
    "name": "ipython",
    "version": 2
   },
   "file_extension": ".py",
   "mimetype": "text/x-python",
   "name": "python",
   "nbconvert_exporter": "python",
   "pygments_lexer": "ipython2",
   "version": "2.7.9"
  }
 },
 "nbformat": 4,
 "nbformat_minor": 0
}
